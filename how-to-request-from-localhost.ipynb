{
 "cells": [
  {
   "cell_type": "code",
   "execution_count": 1,
   "metadata": {},
   "outputs": [],
   "source": [
    "# !pip3 install requests pycookiecheat"
   ]
  },
  {
   "cell_type": "code",
   "execution_count": 2,
   "metadata": {},
   "outputs": [],
   "source": [
    "from pycookiecheat import chrome_cookies\n",
    "import requests"
   ]
  },
  {
   "cell_type": "markdown",
   "metadata": {},
   "source": [
    "## how-to\n",
    "\n",
    "1. You need to login https://postgrest.malaysiaai.ml using your Chrome.\n",
    "2. Get the cookies."
   ]
  },
  {
   "cell_type": "code",
   "execution_count": 3,
   "metadata": {},
   "outputs": [],
   "source": [
    "url = 'https://postgrest.malaysiaai.ml'\n",
    "cookies = chrome_cookies(url)"
   ]
  },
  {
   "cell_type": "code",
   "execution_count": 4,
   "metadata": {},
   "outputs": [
    {
     "data": {
      "text/plain": [
       "{'swagger': '2.0',\n",
       " 'info': {'version': '9.0.0',\n",
       "  'title': 'PostgREST API',\n",
       "  'description': 'standard public schema'},\n",
       " 'host': '0.0.0.0:3000',\n",
       " 'basePath': '/',\n",
       " 'schemes': ['http'],\n",
       " 'consumes': ['application/json',\n",
       "  'application/vnd.pgrst.object+json',\n",
       "  'text/csv'],\n",
       " 'produces': ['application/json',\n",
       "  'application/vnd.pgrst.object+json',\n",
       "  'text/csv'],\n",
       " 'paths': {'/': {'get': {'tags': ['Introspection'],\n",
       "    'summary': 'OpenAPI description (this document)',\n",
       "    'produces': ['application/openapi+json', 'application/json'],\n",
       "    'responses': {'200': {'description': 'OK'}}}},\n",
       "  '/todos': {'get': {'tags': ['todos'],\n",
       "    'parameters': [{'$ref': '#/parameters/rowFilter.todos.id'},\n",
       "     {'$ref': '#/parameters/rowFilter.todos.done'},\n",
       "     {'$ref': '#/parameters/rowFilter.todos.task'},\n",
       "     {'$ref': '#/parameters/rowFilter.todos.due'},\n",
       "     {'$ref': '#/parameters/select'},\n",
       "     {'$ref': '#/parameters/order'},\n",
       "     {'$ref': '#/parameters/range'},\n",
       "     {'$ref': '#/parameters/rangeUnit'},\n",
       "     {'$ref': '#/parameters/offset'},\n",
       "     {'$ref': '#/parameters/limit'},\n",
       "     {'$ref': '#/parameters/preferCount'}],\n",
       "    'responses': {'206': {'description': 'Partial Content'},\n",
       "     '200': {'schema': {'items': {'$ref': '#/definitions/todos'},\n",
       "       'type': 'array'},\n",
       "      'description': 'OK'}}},\n",
       "   'post': {'tags': ['todos'],\n",
       "    'parameters': [{'$ref': '#/parameters/body.todos'},\n",
       "     {'$ref': '#/parameters/select'},\n",
       "     {'$ref': '#/parameters/preferReturn'}],\n",
       "    'responses': {'201': {'description': 'Created'}}},\n",
       "   'delete': {'tags': ['todos'],\n",
       "    'parameters': [{'$ref': '#/parameters/rowFilter.todos.id'},\n",
       "     {'$ref': '#/parameters/rowFilter.todos.done'},\n",
       "     {'$ref': '#/parameters/rowFilter.todos.task'},\n",
       "     {'$ref': '#/parameters/rowFilter.todos.due'},\n",
       "     {'$ref': '#/parameters/preferReturn'}],\n",
       "    'responses': {'204': {'description': 'No Content'}}},\n",
       "   'patch': {'tags': ['todos'],\n",
       "    'parameters': [{'$ref': '#/parameters/rowFilter.todos.id'},\n",
       "     {'$ref': '#/parameters/rowFilter.todos.done'},\n",
       "     {'$ref': '#/parameters/rowFilter.todos.task'},\n",
       "     {'$ref': '#/parameters/rowFilter.todos.due'},\n",
       "     {'$ref': '#/parameters/body.todos'},\n",
       "     {'$ref': '#/parameters/preferReturn'}],\n",
       "    'responses': {'204': {'description': 'No Content'}}}}},\n",
       " 'definitions': {'todos': {'required': ['id', 'done', 'task'],\n",
       "   'properties': {'id': {'format': 'integer',\n",
       "     'type': 'integer',\n",
       "     'description': 'Note:\\nThis is a Primary Key.<pk/>'},\n",
       "    'done': {'default': False, 'format': 'boolean', 'type': 'boolean'},\n",
       "    'task': {'format': 'text', 'type': 'string'},\n",
       "    'due': {'format': 'timestamp with time zone', 'type': 'string'}},\n",
       "   'type': 'object'}},\n",
       " 'parameters': {'preferParams': {'name': 'Prefer',\n",
       "   'description': 'Preference',\n",
       "   'required': False,\n",
       "   'in': 'header',\n",
       "   'type': 'string',\n",
       "   'enum': ['params=single-object']},\n",
       "  'preferReturn': {'name': 'Prefer',\n",
       "   'description': 'Preference',\n",
       "   'required': False,\n",
       "   'in': 'header',\n",
       "   'type': 'string',\n",
       "   'enum': ['return=representation', 'return=minimal', 'return=none']},\n",
       "  'preferCount': {'name': 'Prefer',\n",
       "   'description': 'Preference',\n",
       "   'required': False,\n",
       "   'in': 'header',\n",
       "   'type': 'string',\n",
       "   'enum': ['count=none']},\n",
       "  'select': {'name': 'select',\n",
       "   'description': 'Filtering Columns',\n",
       "   'required': False,\n",
       "   'in': 'query',\n",
       "   'type': 'string'},\n",
       "  'on_conflict': {'name': 'on_conflict',\n",
       "   'description': 'On Conflict',\n",
       "   'required': False,\n",
       "   'in': 'query',\n",
       "   'type': 'string'},\n",
       "  'order': {'name': 'order',\n",
       "   'description': 'Ordering',\n",
       "   'required': False,\n",
       "   'in': 'query',\n",
       "   'type': 'string'},\n",
       "  'range': {'name': 'Range',\n",
       "   'description': 'Limiting and Pagination',\n",
       "   'required': False,\n",
       "   'in': 'header',\n",
       "   'type': 'string'},\n",
       "  'rangeUnit': {'name': 'Range-Unit',\n",
       "   'description': 'Limiting and Pagination',\n",
       "   'required': False,\n",
       "   'default': 'items',\n",
       "   'in': 'header',\n",
       "   'type': 'string'},\n",
       "  'offset': {'name': 'offset',\n",
       "   'description': 'Limiting and Pagination',\n",
       "   'required': False,\n",
       "   'in': 'query',\n",
       "   'type': 'string'},\n",
       "  'limit': {'name': 'limit',\n",
       "   'description': 'Limiting and Pagination',\n",
       "   'required': False,\n",
       "   'in': 'query',\n",
       "   'type': 'string'},\n",
       "  'body.todos': {'name': 'todos',\n",
       "   'description': 'todos',\n",
       "   'required': False,\n",
       "   'schema': {'$ref': '#/definitions/todos'},\n",
       "   'in': 'body'},\n",
       "  'rowFilter.todos.id': {'name': 'id',\n",
       "   'required': False,\n",
       "   'format': 'integer',\n",
       "   'in': 'query',\n",
       "   'type': 'string'},\n",
       "  'rowFilter.todos.done': {'name': 'done',\n",
       "   'required': False,\n",
       "   'format': 'boolean',\n",
       "   'in': 'query',\n",
       "   'type': 'string'},\n",
       "  'rowFilter.todos.task': {'name': 'task',\n",
       "   'required': False,\n",
       "   'format': 'text',\n",
       "   'in': 'query',\n",
       "   'type': 'string'},\n",
       "  'rowFilter.todos.due': {'name': 'due',\n",
       "   'required': False,\n",
       "   'format': 'timestamp with time zone',\n",
       "   'in': 'query',\n",
       "   'type': 'string'}},\n",
       " 'externalDocs': {'url': 'https://postgrest.org/en/v9.0/api.html',\n",
       "  'description': 'PostgREST Documentation'}}"
      ]
     },
     "execution_count": 4,
     "metadata": {},
     "output_type": "execute_result"
    }
   ],
   "source": [
    "requests.get(url, cookies = cookies).json()"
   ]
  },
  {
   "cell_type": "code",
   "execution_count": 5,
   "metadata": {},
   "outputs": [
    {
     "data": {
      "text/plain": [
       "[{'id': 1, 'done': False, 'task': 'finish tutorial 0', 'due': None},\n",
       " {'id': 2, 'done': False, 'task': 'pat self on back', 'due': None}]"
      ]
     },
     "execution_count": 5,
     "metadata": {},
     "output_type": "execute_result"
    }
   ],
   "source": [
    "requests.get(url + '/todos', cookies = cookies).json()"
   ]
  },
  {
   "cell_type": "code",
   "execution_count": null,
   "metadata": {},
   "outputs": [],
   "source": []
  }
 ],
 "metadata": {
  "kernelspec": {
   "display_name": "Python 3",
   "language": "python",
   "name": "python3"
  },
  "language_info": {
   "codemirror_mode": {
    "name": "ipython",
    "version": 3
   },
   "file_extension": ".py",
   "mimetype": "text/x-python",
   "name": "python",
   "nbconvert_exporter": "python",
   "pygments_lexer": "ipython3",
   "version": "3.7.7"
  }
 },
 "nbformat": 4,
 "nbformat_minor": 4
}
